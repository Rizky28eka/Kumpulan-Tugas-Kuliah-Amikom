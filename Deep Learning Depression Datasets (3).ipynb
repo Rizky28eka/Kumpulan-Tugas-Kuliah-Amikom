{
  "nbformat": 4,
  "nbformat_minor": 0,
  "metadata": {
    "colab": {
      "provenance": []
    },
    "kernelspec": {
      "name": "python3",
      "display_name": "Python 3"
    },
    "language_info": {
      "name": "python"
    },
    "widgets": {
      "application/vnd.jupyter.widget-state+json": {
        "7c05c8da956b476093e8e6ff08790251": {
          "model_module": "@jupyter-widgets/controls",
          "model_name": "HBoxModel",
          "model_module_version": "1.5.0",
          "state": {
            "_dom_classes": [],
            "_model_module": "@jupyter-widgets/controls",
            "_model_module_version": "1.5.0",
            "_model_name": "HBoxModel",
            "_view_count": null,
            "_view_module": "@jupyter-widgets/controls",
            "_view_module_version": "1.5.0",
            "_view_name": "HBoxView",
            "box_style": "",
            "children": [
              "IPY_MODEL_ce31ce530b594ee9936125daa08921d9",
              "IPY_MODEL_d230269ebd4d42acaf8b35d593030770",
              "IPY_MODEL_f0ef1188fba243c1b2a48cc4e37a6f85"
            ],
            "layout": "IPY_MODEL_3d1414750c9f4e1d9f041136dcd984d2"
          }
        },
        "ce31ce530b594ee9936125daa08921d9": {
          "model_module": "@jupyter-widgets/controls",
          "model_name": "HTMLModel",
          "model_module_version": "1.5.0",
          "state": {
            "_dom_classes": [],
            "_model_module": "@jupyter-widgets/controls",
            "_model_module_version": "1.5.0",
            "_model_name": "HTMLModel",
            "_view_count": null,
            "_view_module": "@jupyter-widgets/controls",
            "_view_module_version": "1.5.0",
            "_view_name": "HTMLView",
            "description": "",
            "description_tooltip": null,
            "layout": "IPY_MODEL_534b30e3bbac49a6bd9f0ce7ab090089",
            "placeholder": "​",
            "style": "IPY_MODEL_eef4fe17c0974473ae36e6e8ba8476e1",
            "value": "100%"
          }
        },
        "d230269ebd4d42acaf8b35d593030770": {
          "model_module": "@jupyter-widgets/controls",
          "model_name": "FloatProgressModel",
          "model_module_version": "1.5.0",
          "state": {
            "_dom_classes": [],
            "_model_module": "@jupyter-widgets/controls",
            "_model_module_version": "1.5.0",
            "_model_name": "FloatProgressModel",
            "_view_count": null,
            "_view_module": "@jupyter-widgets/controls",
            "_view_module_version": "1.5.0",
            "_view_name": "ProgressView",
            "bar_style": "success",
            "description": "",
            "description_tooltip": null,
            "layout": "IPY_MODEL_eb7233d8c3f541c4a1460dd18c5df2e4",
            "max": 10,
            "min": 0,
            "orientation": "horizontal",
            "style": "IPY_MODEL_a8838de701264269b48db92df1851ff6",
            "value": 10
          }
        },
        "f0ef1188fba243c1b2a48cc4e37a6f85": {
          "model_module": "@jupyter-widgets/controls",
          "model_name": "HTMLModel",
          "model_module_version": "1.5.0",
          "state": {
            "_dom_classes": [],
            "_model_module": "@jupyter-widgets/controls",
            "_model_module_version": "1.5.0",
            "_model_name": "HTMLModel",
            "_view_count": null,
            "_view_module": "@jupyter-widgets/controls",
            "_view_module_version": "1.5.0",
            "_view_name": "HTMLView",
            "description": "",
            "description_tooltip": null,
            "layout": "IPY_MODEL_816b2ff567594029be25b06cf3d0bb91",
            "placeholder": "​",
            "style": "IPY_MODEL_aa8601d3792b400892a8535f28c1f23b",
            "value": " 10/10 [03:11&lt;00:00, 19.81s/it]"
          }
        },
        "3d1414750c9f4e1d9f041136dcd984d2": {
          "model_module": "@jupyter-widgets/base",
          "model_name": "LayoutModel",
          "model_module_version": "1.2.0",
          "state": {
            "_model_module": "@jupyter-widgets/base",
            "_model_module_version": "1.2.0",
            "_model_name": "LayoutModel",
            "_view_count": null,
            "_view_module": "@jupyter-widgets/base",
            "_view_module_version": "1.2.0",
            "_view_name": "LayoutView",
            "align_content": null,
            "align_items": null,
            "align_self": null,
            "border": null,
            "bottom": null,
            "display": null,
            "flex": null,
            "flex_flow": null,
            "grid_area": null,
            "grid_auto_columns": null,
            "grid_auto_flow": null,
            "grid_auto_rows": null,
            "grid_column": null,
            "grid_gap": null,
            "grid_row": null,
            "grid_template_areas": null,
            "grid_template_columns": null,
            "grid_template_rows": null,
            "height": null,
            "justify_content": null,
            "justify_items": null,
            "left": null,
            "margin": null,
            "max_height": null,
            "max_width": null,
            "min_height": null,
            "min_width": null,
            "object_fit": null,
            "object_position": null,
            "order": null,
            "overflow": null,
            "overflow_x": null,
            "overflow_y": null,
            "padding": null,
            "right": null,
            "top": null,
            "visibility": null,
            "width": null
          }
        },
        "534b30e3bbac49a6bd9f0ce7ab090089": {
          "model_module": "@jupyter-widgets/base",
          "model_name": "LayoutModel",
          "model_module_version": "1.2.0",
          "state": {
            "_model_module": "@jupyter-widgets/base",
            "_model_module_version": "1.2.0",
            "_model_name": "LayoutModel",
            "_view_count": null,
            "_view_module": "@jupyter-widgets/base",
            "_view_module_version": "1.2.0",
            "_view_name": "LayoutView",
            "align_content": null,
            "align_items": null,
            "align_self": null,
            "border": null,
            "bottom": null,
            "display": null,
            "flex": null,
            "flex_flow": null,
            "grid_area": null,
            "grid_auto_columns": null,
            "grid_auto_flow": null,
            "grid_auto_rows": null,
            "grid_column": null,
            "grid_gap": null,
            "grid_row": null,
            "grid_template_areas": null,
            "grid_template_columns": null,
            "grid_template_rows": null,
            "height": null,
            "justify_content": null,
            "justify_items": null,
            "left": null,
            "margin": null,
            "max_height": null,
            "max_width": null,
            "min_height": null,
            "min_width": null,
            "object_fit": null,
            "object_position": null,
            "order": null,
            "overflow": null,
            "overflow_x": null,
            "overflow_y": null,
            "padding": null,
            "right": null,
            "top": null,
            "visibility": null,
            "width": null
          }
        },
        "eef4fe17c0974473ae36e6e8ba8476e1": {
          "model_module": "@jupyter-widgets/controls",
          "model_name": "DescriptionStyleModel",
          "model_module_version": "1.5.0",
          "state": {
            "_model_module": "@jupyter-widgets/controls",
            "_model_module_version": "1.5.0",
            "_model_name": "DescriptionStyleModel",
            "_view_count": null,
            "_view_module": "@jupyter-widgets/base",
            "_view_module_version": "1.2.0",
            "_view_name": "StyleView",
            "description_width": ""
          }
        },
        "eb7233d8c3f541c4a1460dd18c5df2e4": {
          "model_module": "@jupyter-widgets/base",
          "model_name": "LayoutModel",
          "model_module_version": "1.2.0",
          "state": {
            "_model_module": "@jupyter-widgets/base",
            "_model_module_version": "1.2.0",
            "_model_name": "LayoutModel",
            "_view_count": null,
            "_view_module": "@jupyter-widgets/base",
            "_view_module_version": "1.2.0",
            "_view_name": "LayoutView",
            "align_content": null,
            "align_items": null,
            "align_self": null,
            "border": null,
            "bottom": null,
            "display": null,
            "flex": null,
            "flex_flow": null,
            "grid_area": null,
            "grid_auto_columns": null,
            "grid_auto_flow": null,
            "grid_auto_rows": null,
            "grid_column": null,
            "grid_gap": null,
            "grid_row": null,
            "grid_template_areas": null,
            "grid_template_columns": null,
            "grid_template_rows": null,
            "height": null,
            "justify_content": null,
            "justify_items": null,
            "left": null,
            "margin": null,
            "max_height": null,
            "max_width": null,
            "min_height": null,
            "min_width": null,
            "object_fit": null,
            "object_position": null,
            "order": null,
            "overflow": null,
            "overflow_x": null,
            "overflow_y": null,
            "padding": null,
            "right": null,
            "top": null,
            "visibility": null,
            "width": null
          }
        },
        "a8838de701264269b48db92df1851ff6": {
          "model_module": "@jupyter-widgets/controls",
          "model_name": "ProgressStyleModel",
          "model_module_version": "1.5.0",
          "state": {
            "_model_module": "@jupyter-widgets/controls",
            "_model_module_version": "1.5.0",
            "_model_name": "ProgressStyleModel",
            "_view_count": null,
            "_view_module": "@jupyter-widgets/base",
            "_view_module_version": "1.2.0",
            "_view_name": "StyleView",
            "bar_color": null,
            "description_width": ""
          }
        },
        "816b2ff567594029be25b06cf3d0bb91": {
          "model_module": "@jupyter-widgets/base",
          "model_name": "LayoutModel",
          "model_module_version": "1.2.0",
          "state": {
            "_model_module": "@jupyter-widgets/base",
            "_model_module_version": "1.2.0",
            "_model_name": "LayoutModel",
            "_view_count": null,
            "_view_module": "@jupyter-widgets/base",
            "_view_module_version": "1.2.0",
            "_view_name": "LayoutView",
            "align_content": null,
            "align_items": null,
            "align_self": null,
            "border": null,
            "bottom": null,
            "display": null,
            "flex": null,
            "flex_flow": null,
            "grid_area": null,
            "grid_auto_columns": null,
            "grid_auto_flow": null,
            "grid_auto_rows": null,
            "grid_column": null,
            "grid_gap": null,
            "grid_row": null,
            "grid_template_areas": null,
            "grid_template_columns": null,
            "grid_template_rows": null,
            "height": null,
            "justify_content": null,
            "justify_items": null,
            "left": null,
            "margin": null,
            "max_height": null,
            "max_width": null,
            "min_height": null,
            "min_width": null,
            "object_fit": null,
            "object_position": null,
            "order": null,
            "overflow": null,
            "overflow_x": null,
            "overflow_y": null,
            "padding": null,
            "right": null,
            "top": null,
            "visibility": null,
            "width": null
          }
        },
        "aa8601d3792b400892a8535f28c1f23b": {
          "model_module": "@jupyter-widgets/controls",
          "model_name": "DescriptionStyleModel",
          "model_module_version": "1.5.0",
          "state": {
            "_model_module": "@jupyter-widgets/controls",
            "_model_module_version": "1.5.0",
            "_model_name": "DescriptionStyleModel",
            "_view_count": null,
            "_view_module": "@jupyter-widgets/base",
            "_view_module_version": "1.2.0",
            "_view_name": "StyleView",
            "description_width": ""
          }
        }
      }
    }
  },
  "cells": [
    {
      "cell_type": "markdown",
      "source": [
        "\n",
        "**NAMA :** RIZKY EKA HARYADI  \n",
        "**NIM :** 22.11.4829  \n",
        "**Kelas :** Kecerdasan Buatan Lanjut 5  \n",
        "\n",
        "**Link Datasets :** [Depression Dataset on Kaggle](https://www.kaggle.com/datasets/anthonytherrien/depression-dataset)  \n",
        "**Link Google Colab :** [Google Colab Notebook](https://colab.research.google.com/drive/1ASKMuENNV17vmP-l5RYAakE9Kwoanrvb?usp=sharing)\n",
        "\n",
        "# Deskripsi Proyek\n",
        "\n",
        "## Problem yang Diselesaikan\n",
        "Proyek ini bertujuan untuk mendeteksi kemungkinan seseorang mengalami depresi berdasarkan data tertentu, seperti riwayat kesehatan mental, gaya hidup, dan faktor lainnya. Hal ini penting untuk memberikan intervensi dini dan mengurangi risiko komplikasi serius akibat depresi.\n",
        "\n",
        "## Fakta atau Pernyataan Pendukung Problem\n",
        "1. Menurut WHO (World Health Organization), lebih dari 264 juta orang di seluruh dunia menderita depresi. ([https://www.who.int/news-room/fact-sheets/detail/depression](https://www.who.int/news-room/fact-sheets/detail/depression))\n",
        "2. Studi dalam jurnal \"The Lancet Psychiatry\" menunjukkan bahwa deteksi dini depresi dapat meningkatkan peluang pemulihan hingga 80%. ([https://www.thelancet.com/journals/lanpsy/home](https://www.thelancet.com/journals/lanpsy/home))\n",
        "3. Data dari Badan Pusat Statistik (BPS) menunjukkan peningkatan prevalensi masalah kesehatan mental di Indonesia sebesar 7% dalam lima tahun terakhir. ([https://www.bps.go.id/](https://www.bps.go.id/))\n",
        "\n",
        "## Keterangan Dataset\n",
        "Dataset yang digunakan mencakup data anonim individu dengan berbagai atribut, seperti:\n",
        "- **Riwayat kesehatan mental** (contoh: apakah pernah mengalami masalah kesehatan mental sebelumnya).\n",
        "- **Faktor gaya hidup** (contoh: kebiasaan olahraga, pola tidur).\n",
        "- **Demografi** (contoh: usia, jenis kelamin).\n",
        "Dataset ini diproses dengan teknik seperti *one-hot encoding*, normalisasi, dan pembagian menjadi data pelatihan dan uji.\n",
        "\n",
        "## Model dan Konfigurasi yang Digunakan\n",
        "Model yang digunakan adalah LSTM (Long Short-Term Memory), yang dirancang untuk memahami data berurutan. Konfigurasi utama:\n",
        "- Dua lapisan LSTM dengan 64 dan 32 unit masing-masing.\n",
        "- Fungsi aktivasi **ReLU** pada lapisan tersembunyi dan **sigmoid** pada lapisan output.\n",
        "- Optimizer **Adam** dengan fungsi loss **binary crossentropy**.\n",
        "- Pelatihan dilakukan dengan K-Fold Cross-Validation (2 lipatan).\n",
        "\n",
        "## Metrik Pengukuran Performa\n",
        "- **Akurasi**: Mengukur persentase prediksi yang benar.\n",
        "- **Confusion Matrix**: Untuk melihat distribusi prediksi benar dan salah, termasuk True Positive, False Positive, True Negative, dan False Negative.\n",
        "- **Loss**: Mengukur kesalahan prediksi selama pelatihan.\n",
        "\n"
      ],
      "metadata": {
        "id": "oJbsfwE-_5QJ"
      }
    },
    {
      "cell_type": "markdown",
      "source": [
        "### **Cell 1: Setup dan Unduh Dataset**"
      ],
      "metadata": {
        "id": "yPiw67On3U3V"
      }
    },
    {
      "cell_type": "code",
      "source": [
        "# Import library yang diperlukan\n",
        "import kagglehub\n",
        "import tensorflow as tf\n",
        "from tensorflow import keras\n",
        "from tensorflow.keras import layers\n",
        "from sklearn.model_selection import train_test_split\n",
        "import pandas as pd\n",
        "import numpy as np\n",
        "import matplotlib.pyplot as plt\n",
        "from tensorflow.keras.callbacks import ModelCheckpoint\n",
        "import seaborn as sns\n",
        "import shap\n",
        "from sklearn.metrics import confusion_matrix, ConfusionMatrixDisplay\n",
        "\n",
        "# Unduh dataset\n",
        "path = kagglehub.dataset_download(\"anthonytherrien/depression-dataset\")\n",
        "print(\"Dataset berhasil diunduh.\")\n",
        "print(f\"Lokasi file dataset: {path}\")"
      ],
      "metadata": {
        "colab": {
          "base_uri": "https://localhost:8080/"
        },
        "id": "vUrJvQfM3Vlq",
        "outputId": "497767ca-b345-4f26-d04c-966b40349bc8"
      },
      "execution_count": null,
      "outputs": [
        {
          "output_type": "stream",
          "name": "stdout",
          "text": [
            "Dataset berhasil diunduh.\n",
            "Lokasi file dataset: /root/.cache/kagglehub/datasets/anthonytherrien/depression-dataset/versions/1\n"
          ]
        }
      ]
    },
    {
      "cell_type": "markdown",
      "source": [
        "### **Cell 2: Muat dan Lakukan Preprocessing Dataset**"
      ],
      "metadata": {
        "id": "B3S9n2It3Yzd"
      }
    },
    {
      "cell_type": "code",
      "source": [
        "# Muat dataset\n",
        "data = pd.read_csv(f\"{path}/depression_data.csv\")\n",
        "print(\"Dataset berhasil dimuat. 5 baris pertama:\")\n",
        "print(data.head())\n",
        "\n",
        "# Preprocessing\n",
        "features = data.drop(columns=['Name'])\n",
        "features = pd.get_dummies(features)  # One-hot encoding\n",
        "labels = data['History of Mental Illness'].apply(lambda x: 1 if x == 'Yes' else 0).values\n",
        "features.fillna(features.mean(), inplace=True)\n",
        "print(\"Preprocessing selesai. Dimensi fitur:\", features.shape)"
      ],
      "metadata": {
        "colab": {
          "base_uri": "https://localhost:8080/"
        },
        "id": "znpDHz3d3bp_",
        "outputId": "b916e67b-e7fc-421f-e06c-ea785059934d"
      },
      "execution_count": null,
      "outputs": [
        {
          "output_type": "stream",
          "name": "stdout",
          "text": [
            "Dataset berhasil dimuat. 5 baris pertama:\n",
            "               Name  Age Marital Status    Education Level  \\\n",
            "0  Christine Barker   31        Married  Bachelor's Degree   \n",
            "1  Jacqueline Lewis   55        Married        High School   \n",
            "2    Shannon Church   78        Widowed    Master's Degree   \n",
            "3    Charles Jordan   58       Divorced    Master's Degree   \n",
            "4      Michael Rich   18         Single        High School   \n",
            "\n",
            "   Number of Children Smoking Status Physical Activity Level  \\\n",
            "0                   2     Non-smoker                  Active   \n",
            "1                   1     Non-smoker               Sedentary   \n",
            "2                   1     Non-smoker               Sedentary   \n",
            "3                   3     Non-smoker                Moderate   \n",
            "4                   0     Non-smoker               Sedentary   \n",
            "\n",
            "  Employment Status     Income Alcohol Consumption Dietary Habits  \\\n",
            "0        Unemployed   26265.67            Moderate       Moderate   \n",
            "1          Employed   42710.36                High      Unhealthy   \n",
            "2          Employed  125332.79                 Low      Unhealthy   \n",
            "3        Unemployed    9992.78            Moderate       Moderate   \n",
            "4        Unemployed    8595.08                 Low       Moderate   \n",
            "\n",
            "  Sleep Patterns History of Mental Illness History of Substance Abuse  \\\n",
            "0           Fair                       Yes                         No   \n",
            "1           Fair                       Yes                         No   \n",
            "2           Good                        No                         No   \n",
            "3           Poor                        No                         No   \n",
            "4           Fair                       Yes                         No   \n",
            "\n",
            "  Family History of Depression Chronic Medical Conditions  \n",
            "0                          Yes                        Yes  \n",
            "1                           No                        Yes  \n",
            "2                          Yes                         No  \n",
            "3                           No                         No  \n",
            "4                          Yes                        Yes  \n",
            "Preprocessing selesai. Dimensi fitur: (413768, 37)\n"
          ]
        }
      ]
    },
    {
      "cell_type": "markdown",
      "source": [
        "### **Cell 3: Bagi Dataset dan Normalisasi**"
      ],
      "metadata": {
        "id": "ku5UDFNZ3dsU"
      }
    },
    {
      "cell_type": "code",
      "source": [
        "# Bagi dataset\n",
        "train_features, test_features, train_labels, test_labels = train_test_split(\n",
        "    features, labels, test_size=0.2, random_state=42\n",
        ")\n",
        "\n",
        "# Normalisasi fitur\n",
        "train_features = train_features.astype('float32') / train_features.max().astype('float32')\n",
        "test_features = test_features.astype('float32') / test_features.max().astype('float32')\n",
        "\n",
        "# Bentuk ulang data untuk LSTM\n",
        "train_features = train_features.values.reshape((train_features.shape[0], 1, train_features.shape[1]))\n",
        "test_features = test_features.values.reshape((test_features.shape[0], 1, test_features.shape[1]))\n",
        "print(\"Data diubah bentuk untuk LSTM. Dimensi fitur pelatihan:\", train_features.shape)"
      ],
      "metadata": {
        "colab": {
          "base_uri": "https://localhost:8080/"
        },
        "id": "amexYpcS3u3p",
        "outputId": "82b7fb0f-c074-4dd7-e2c4-a86287093dea"
      },
      "execution_count": null,
      "outputs": [
        {
          "output_type": "stream",
          "name": "stdout",
          "text": [
            "Data diubah bentuk untuk LSTM. Dimensi fitur pelatihan: (331014, 1, 37)\n"
          ]
        }
      ]
    },
    {
      "cell_type": "markdown",
      "source": [
        "### **Cell 4: Bangun Model LSTM**"
      ],
      "metadata": {
        "id": "V6euewcZ31sJ"
      }
    },
    {
      "cell_type": "code",
      "source": [
        "# Bangun model LSTM\n",
        "input_layer = layers.Input(shape=(train_features.shape[1], train_features.shape[2]))\n",
        "x = layers.LSTM(64, activation='relu', return_sequences=True)(input_layer)\n",
        "x = layers.LSTM(32, activation='relu')(x)\n",
        "output_layer = layers.Dense(1, activation='sigmoid')(x)\n",
        "\n",
        "model = keras.Model(inputs=input_layer, outputs=output_layer)\n",
        "\n",
        "model.compile(loss='binary_crossentropy', optimizer='adam', metrics=['accuracy'])\n",
        "print(\"Model LSTM berhasil dibangun dan dikompilasi.\")"
      ],
      "metadata": {
        "colab": {
          "base_uri": "https://localhost:8080/"
        },
        "id": "i3w4PHoh34tq",
        "outputId": "41523e38-4126-444c-a4c0-f090b6b667dc"
      },
      "execution_count": null,
      "outputs": [
        {
          "output_type": "stream",
          "name": "stdout",
          "text": [
            "Model LSTM berhasil dibangun dan dikompilasi.\n"
          ]
        }
      ]
    },
    {
      "cell_type": "markdown",
      "source": [
        "### **Cell 5: Latih Model dengan K-Fold**"
      ],
      "metadata": {
        "id": "TqBYP3w5367A"
      }
    },
    {
      "cell_type": "code",
      "source": [
        "from sklearn.model_selection import KFold\n",
        "\n",
        "# Tambahkan checkpoint\n",
        "checkpoint = ModelCheckpoint('best_model.keras', monitor='val_accuracy', save_best_only=True, mode='max')\n",
        "\n",
        "# Latih model dengan K-Fold\n",
        "kf = KFold(n_splits=2)\n",
        "histories = []\n",
        "fold = 1\n",
        "for train_index, val_index in kf.split(train_features):\n",
        "    print(f\"Melatih fold {fold}...\")\n",
        "    x_train, x_val = train_features[train_index], train_features[val_index]\n",
        "    y_train, y_val = train_labels[train_index], train_labels[val_index]\n",
        "\n",
        "    history = model.fit(x_train, y_train, epochs=3, validation_data=(x_val, y_val), callbacks=[checkpoint])\n",
        "    histories.append(history)\n",
        "    fold += 1\n",
        "\n",
        "# Muat model terbaik\n",
        "model = keras.models.load_model('best_model.keras')\n",
        "print(\"Model terbaik berhasil dimuat dari checkpoint.\")"
      ],
      "metadata": {
        "colab": {
          "base_uri": "https://localhost:8080/"
        },
        "id": "JLBWMmPB4Bch",
        "outputId": "2bb5a813-e4c4-4223-9efc-dc0f97e3073a"
      },
      "execution_count": null,
      "outputs": [
        {
          "output_type": "stream",
          "name": "stdout",
          "text": [
            "Melatih fold 1...\n",
            "Epoch 1/3\n",
            "\u001b[1m5173/5173\u001b[0m \u001b[32m━━━━━━━━━━━━━━━━━━━━\u001b[0m\u001b[37m\u001b[0m \u001b[1m36s\u001b[0m 6ms/step - accuracy: 0.9723 - loss: 0.0539 - val_accuracy: 1.0000 - val_loss: 5.8020e-08\n",
            "Epoch 2/3\n",
            "\u001b[1m5173/5173\u001b[0m \u001b[32m━━━━━━━━━━━━━━━━━━━━\u001b[0m\u001b[37m\u001b[0m \u001b[1m40s\u001b[0m 6ms/step - accuracy: 1.0000 - loss: 3.2880e-08 - val_accuracy: 1.0000 - val_loss: 6.5985e-09\n",
            "Epoch 3/3\n",
            "\u001b[1m5173/5173\u001b[0m \u001b[32m━━━━━━━━━━━━━━━━━━━━\u001b[0m\u001b[37m\u001b[0m \u001b[1m30s\u001b[0m 6ms/step - accuracy: 1.0000 - loss: 5.7490e-09 - val_accuracy: 1.0000 - val_loss: 4.6602e-09\n",
            "Melatih fold 2...\n",
            "Epoch 1/3\n",
            "\u001b[1m5173/5173\u001b[0m \u001b[32m━━━━━━━━━━━━━━━━━━━━\u001b[0m\u001b[37m\u001b[0m \u001b[1m30s\u001b[0m 6ms/step - accuracy: 1.0000 - loss: 4.5635e-09 - val_accuracy: 1.0000 - val_loss: 4.3834e-09\n",
            "Epoch 2/3\n",
            "\u001b[1m5173/5173\u001b[0m \u001b[32m━━━━━━━━━━━━━━━━━━━━\u001b[0m\u001b[37m\u001b[0m \u001b[1m41s\u001b[0m 6ms/step - accuracy: 1.0000 - loss: 4.3684e-09 - val_accuracy: 1.0000 - val_loss: 4.1791e-09\n",
            "Epoch 3/3\n",
            "\u001b[1m5173/5173\u001b[0m \u001b[32m━━━━━━━━━━━━━━━━━━━━\u001b[0m\u001b[37m\u001b[0m \u001b[1m32s\u001b[0m 6ms/step - accuracy: 1.0000 - loss: 4.2363e-09 - val_accuracy: 1.0000 - val_loss: 4.2291e-09\n",
            "Model terbaik berhasil dimuat dari checkpoint.\n"
          ]
        }
      ]
    },
    {
      "cell_type": "markdown",
      "source": [
        "### **Cell 6: Evaluasi Model**"
      ],
      "metadata": {
        "id": "7OGdT8_b4IH1"
      }
    },
    {
      "cell_type": "code",
      "source": [
        "# Evaluasi model\n",
        "test_loss, test_acc = model.evaluate(test_features, test_labels)\n",
        "print(f\"Evaluasi selesai. Akurasi pada data uji: {test_acc:.4f}\")"
      ],
      "metadata": {
        "colab": {
          "base_uri": "https://localhost:8080/"
        },
        "id": "WN1bmhDp4McJ",
        "outputId": "6adbdd6b-36e7-462c-c61b-e9f3a0b20212"
      },
      "execution_count": null,
      "outputs": [
        {
          "output_type": "stream",
          "name": "stdout",
          "text": [
            "\u001b[1m2587/2587\u001b[0m \u001b[32m━━━━━━━━━━━━━━━━━━━━\u001b[0m\u001b[37m\u001b[0m \u001b[1m5s\u001b[0m 2ms/step - accuracy: 1.0000 - loss: 5.8350e-08\n",
            "Evaluasi selesai. Akurasi pada data uji: 1.0000\n"
          ]
        }
      ]
    },
    {
      "cell_type": "markdown",
      "source": [
        "###**Cell 7: Visualisasi Riwayat Pelatihan**"
      ],
      "metadata": {
        "id": "Csv2GusP4O_K"
      }
    },
    {
      "cell_type": "code",
      "source": [
        "# Visualisasi riwayat pelatihan\n",
        "def plot_training_history(histories):\n",
        "    plt.figure(figsize=(12, 6))\n",
        "\n",
        "    # Plot akurasi\n",
        "    plt.subplot(1, 2, 1)\n",
        "    for i, history in enumerate(histories):\n",
        "        plt.plot(history.history['accuracy'], label=f'Latih Fold {i+1}')\n",
        "        plt.plot(history.history['val_accuracy'], label=f'Validasi Fold {i+1}')\n",
        "    plt.title('Akurasi Model')\n",
        "    plt.xlabel('Epoch')\n",
        "    plt.ylabel('Akurasi')\n",
        "    plt.legend()\n",
        "\n",
        "    # Plot loss\n",
        "    plt.subplot(1, 2, 2)\n",
        "    for i, history in enumerate(histories):\n",
        "        plt.plot(history.history['loss'], label=f'Latih Fold {i+1}')\n",
        "        plt.plot(history.history['val_loss'], label=f'Validasi Fold {i+1}')\n",
        "    plt.title('Loss Model')\n",
        "    plt.xlabel('Epoch')\n",
        "    plt.ylabel('Loss')\n",
        "    plt.legend()\n",
        "\n",
        "    plt.tight_layout()\n",
        "    plt.show()\n",
        "\n",
        "plot_training_history(histories)"
      ],
      "metadata": {
        "colab": {
          "base_uri": "https://localhost:8080/",
          "height": 607
        },
        "id": "-hRfRvTJ4XPi",
        "outputId": "2c0c7518-f53a-4aa6-f1ab-654bd87741e3"
      },
      "execution_count": null,
      "outputs": [
        {
          "output_type": "display_data",
          "data": {
            "text/plain": [
              "<Figure size 1200x600 with 2 Axes>"
            ],
            "image/png": "[encoded data removed]"
          },
          "metadata": {}
        }
      ]
    },
    {
      "cell_type": "markdown",
      "source": [
        "### **Cell 8: Visualisasi Tambahan**"
      ],
      "metadata": {
        "id": "dUxhapV84nnu"
      }
    },
    {
      "cell_type": "code",
      "source": [
        "# Prediksi probabilitas\n",
        "predictions = model.predict(test_features)\n",
        "\n",
        "# Membuat subplots\n",
        "fig, axes = plt.subplots(1, 2, figsize=(14, 6))\n",
        "\n",
        "# Subplot 1: Distribusi Probabilitas Prediksi\n",
        "axes[0].hist(predictions, bins=10, color='blue', alpha=0.7, edgecolor='black')\n",
        "axes[0].set_title('Distribusi Probabilitas Prediksi', fontsize=14)\n",
        "axes[0].set_xlabel('Probabilitas (0 = Tidak Depresi, 1 = Depresi)', fontsize=12)\n",
        "axes[0].set_ylabel('Frekuensi', fontsize=12)\n",
        "axes[0].grid(True)\n",
        "\n",
        "# Subplot 2: Confusion Matrix\n",
        "test_pred_classes = (predictions >= 0.5).astype(int)\n",
        "cm = confusion_matrix(test_labels, test_pred_classes)\n",
        "disp = ConfusionMatrixDisplay(confusion_matrix=cm, display_labels=['Tidak Depresi', 'Depresi'])\n",
        "disp.plot(cmap='Blues', ax=axes[1], colorbar=False)\n",
        "axes[1].set_title('Confusion Matrix', fontsize=14)\n",
        "\n",
        "# Menyesuaikan tata letak\n",
        "plt.tight_layout()\n",
        "plt.show()"
      ],
      "metadata": {
        "colab": {
          "base_uri": "https://localhost:8080/",
          "height": 584
        },
        "id": "Rb_LFZmJ4q7t",
        "outputId": "b0a427e2-8d84-443d-94dc-11f279cc8025"
      },
      "execution_count": null,
      "outputs": [
        {
          "output_type": "stream",
          "name": "stdout",
          "text": [
            "\u001b[1m2587/2587\u001b[0m \u001b[32m━━━━━━━━━━━━━━━━━━━━\u001b[0m\u001b[37m\u001b[0m \u001b[1m7s\u001b[0m 2ms/step\n"
          ]
        },
        {
          "output_type": "display_data",
          "data": {
            "text/plain": [
              "<Figure size 1400x600 with 2 Axes>"
            ],
            "image/png": "[encoded data removed]"
          },
          "metadata": {}
        }
      ]
    },
    {
      "cell_type": "markdown",
      "source": [
        "### **Cell 9 : SHAP**"
      ],
      "metadata": {
        "id": "Lhm8_IGE68Xp"
      }
    },
    {
      "cell_type": "code",
      "source": [
        "# SHAP summary plot\n",
        "import shap\n",
        "\n",
        "# Ratakan data menjadi 2D untuk SHAP\n",
        "train_features_flat = train_features.reshape(train_features.shape[0], -1)\n",
        "test_features_flat = test_features.reshape(test_features.shape[0], -1)\n",
        "\n",
        "# Fungsi pembungkus untuk prediksi\n",
        "def wrapped_predict(data):\n",
        "    # Ubah data kembali ke 3D sebelum digunakan oleh model\n",
        "    reshaped_data = data.reshape(data.shape[0], 1, -1)\n",
        "    return model.predict(reshaped_data)\n",
        "\n",
        "# Inisialisasi KernelExplainer dengan pembungkus fungsi prediksi\n",
        "explainer = shap.KernelExplainer(wrapped_predict, train_features_flat[:100])\n",
        "\n",
        "# Hitung SHAP values untuk data uji yang diratakan\n",
        "shap_values = explainer.shap_values(test_features_flat[:10])\n",
        "\n",
        "# Visualisasi SHAP summary plot\n",
        "shap.summary_plot(shap_values, test_features_flat[:10], feature_names=features.columns)"
      ],
      "metadata": {
        "colab": {
          "base_uri": "https://localhost:8080/",
          "height": 1000,
          "referenced_widgets": [
            "7c05c8da956b476093e8e6ff08790251",
            "ce31ce530b594ee9936125daa08921d9",
            "d230269ebd4d42acaf8b35d593030770",
            "f0ef1188fba243c1b2a48cc4e37a6f85",
            "3d1414750c9f4e1d9f041136dcd984d2",
            "534b30e3bbac49a6bd9f0ce7ab090089",
            "eef4fe17c0974473ae36e6e8ba8476e1",
            "eb7233d8c3f541c4a1460dd18c5df2e4",
            "a8838de701264269b48db92df1851ff6",
            "816b2ff567594029be25b06cf3d0bb91",
            "aa8601d3792b400892a8535f28c1f23b"
          ]
        },
        "id": "_LS17OhW7FhX",
        "outputId": "d175f186-8eb6-44fa-c3d4-ea3e047ca870"
      },
      "execution_count": null,
      "outputs": [
        {
          "output_type": "stream",
          "name": "stdout",
          "text": [
            "\u001b[1m4/4\u001b[0m \u001b[32m━━━━━━━━━━━━━━━━━━━━\u001b[0m\u001b[37m\u001b[0m \u001b[1m0s\u001b[0m 4ms/step \n"
          ]
        },
        {
          "output_type": "display_data",
          "data": {
            "text/plain": [
              "  0%|          | 0/10 [00:00<?, ?it/s]"
            ],
            "application/vnd.jupyter.widget-view+json": {
              "version_major": 2,
              "version_minor": 0,
              "model_id": "7c05c8da956b476093e8e6ff08790251"
            }
          },
          "metadata": {}
        },
        {
          "output_type": "stream",
          "name": "stdout",
          "text": [
            "\u001b[1m1/1\u001b[0m \u001b[32m━━━━━━━━━━━━━━━━━━━━\u001b[0m\u001b[37m\u001b[0m \u001b[1m0s\u001b[0m 22ms/step\n",
            "\u001b[1m6632/6632\u001b[0m \u001b[32m━━━━━━━━━━━━━━━━━━━━\u001b[0m\u001b[37m\u001b[0m \u001b[1m14s\u001b[0m 2ms/step\n",
            "\u001b[1m1/1\u001b[0m \u001b[32m━━━━━━━━━━━━━━━━━━━━\u001b[0m\u001b[37m\u001b[0m \u001b[1m0s\u001b[0m 24ms/step\n",
            "\u001b[1m6632/6632\u001b[0m \u001b[32m━━━━━━━━━━━━━━━━━━━━\u001b[0m\u001b[37m\u001b[0m \u001b[1m13s\u001b[0m 2ms/step\n",
            "\u001b[1m1/1\u001b[0m \u001b[32m━━━━━━━━━━━━━━━━━━━━\u001b[0m\u001b[37m\u001b[0m \u001b[1m0s\u001b[0m 24ms/step\n",
            "\u001b[1m6632/6632\u001b[0m \u001b[32m━━━━━━━━━━━━━━━━━━━━\u001b[0m\u001b[37m\u001b[0m \u001b[1m13s\u001b[0m 2ms/step\n",
            "\u001b[1m1/1\u001b[0m \u001b[32m━━━━━━━━━━━━━━━━━━━━\u001b[0m\u001b[37m\u001b[0m \u001b[1m0s\u001b[0m 36ms/step\n",
            "\u001b[1m6632/6632\u001b[0m \u001b[32m━━━━━━━━━━━━━━━━━━━━\u001b[0m\u001b[37m\u001b[0m \u001b[1m12s\u001b[0m 2ms/step\n",
            "\u001b[1m1/1\u001b[0m \u001b[32m━━━━━━━━━━━━━━━━━━━━\u001b[0m\u001b[37m\u001b[0m \u001b[1m0s\u001b[0m 28ms/step\n",
            "\u001b[1m6632/6632\u001b[0m \u001b[32m━━━━━━━━━━━━━━━━━━━━\u001b[0m\u001b[37m\u001b[0m \u001b[1m13s\u001b[0m 2ms/step\n",
            "\u001b[1m1/1\u001b[0m \u001b[32m━━━━━━━━━━━━━━━━━━━━\u001b[0m\u001b[37m\u001b[0m \u001b[1m0s\u001b[0m 28ms/step\n",
            "\u001b[1m6632/6632\u001b[0m \u001b[32m━━━━━━━━━━━━━━━━━━━━\u001b[0m\u001b[37m\u001b[0m \u001b[1m12s\u001b[0m 2ms/step\n",
            "\u001b[1m1/1\u001b[0m \u001b[32m━━━━━━━━━━━━━━━━━━━━\u001b[0m\u001b[37m\u001b[0m \u001b[1m0s\u001b[0m 25ms/step\n",
            "\u001b[1m6632/6632\u001b[0m \u001b[32m━━━━━━━━━━━━━━━━━━━━\u001b[0m\u001b[37m\u001b[0m \u001b[1m13s\u001b[0m 2ms/step\n",
            "\u001b[1m1/1\u001b[0m \u001b[32m━━━━━━━━━━━━━━━━━━━━\u001b[0m\u001b[37m\u001b[0m \u001b[1m0s\u001b[0m 44ms/step\n",
            "\u001b[1m6632/6632\u001b[0m \u001b[32m━━━━━━━━━━━━━━━━━━━━\u001b[0m\u001b[37m\u001b[0m \u001b[1m15s\u001b[0m 2ms/step\n",
            "\u001b[1m1/1\u001b[0m \u001b[32m━━━━━━━━━━━━━━━━━━━━\u001b[0m\u001b[37m\u001b[0m \u001b[1m0s\u001b[0m 24ms/step\n",
            "\u001b[1m6632/6632\u001b[0m \u001b[32m━━━━━━━━━━━━━━━━━━━━\u001b[0m\u001b[37m\u001b[0m \u001b[1m12s\u001b[0m 2ms/step\n",
            "\u001b[1m1/1\u001b[0m \u001b[32m━━━━━━━━━━━━━━━━━━━━\u001b[0m\u001b[37m\u001b[0m \u001b[1m0s\u001b[0m 22ms/step\n",
            "\u001b[1m6632/6632\u001b[0m \u001b[32m━━━━━━━━━━━━━━━━━━━━\u001b[0m\u001b[37m\u001b[0m \u001b[1m13s\u001b[0m 2ms/step\n"
          ]
        },
        {
          "output_type": "display_data",
          "data": {
            "text/plain": [
              "<Figure size 1150x660 with 1 Axes>"
            ],
            "image/png": "[encoded data removed]"
          },
          "metadata": {}
        }
      ]
    },
    {
      "cell_type": "markdown",
      "source": [
        "### **Cell 10: Prediksi Statis**"
      ],
      "metadata": {
        "id": "IEaVX5le42ae"
      }
    },
    {
      "cell_type": "code",
      "source": [
        "# Ambil beberapa sampel dari data uji (test_features)\n",
        "sample_data = test_features[:5]  # Menggunakan 5 sampel pertama sebagai contoh\n",
        "\n",
        "# Lakukan prediksi menggunakan model\n",
        "static_predictions = model.predict(sample_data)\n",
        "\n",
        "# Tampilkan hasil prediksi dalam format yang mudah dipahami\n",
        "print(\"Prediksi Statis:\\n\")\n",
        "for i, prediction in enumerate(static_predictions, start=1):\n",
        "    status = \"Depresi\" if prediction[0] >= 0.5 else \"Tidak Depresi\"\n",
        "    print(f\"Sampel {i}:\")\n",
        "    print(f\"  Probabilitas Depresi: {prediction[0]:.4f}\")\n",
        "    print(f\"  Prediksi Kelas: {status}\\n\")\n",
        "\n",
        "# Contoh tambahan: Jika ingin menampilkan sebagai tabel menggunakan pandas\n",
        "def display_predictions(data, predictions):\n",
        "    import pandas as pd\n",
        "\n",
        "    result = pd.DataFrame({\n",
        "        \"Sampel\": [f\"Sampel {i+1}\" for i in range(len(data))],\n",
        "        \"Probabilitas Depresi\": [pred[0] for pred in predictions],\n",
        "        \"Kelas\": [\"Depresi\" if pred[0] >= 0.5 else \"Tidak Depresi\" for pred in predictions]\n",
        "    })\n",
        "    return result\n",
        "\n",
        "# Tampilkan prediksi dalam bentuk tabel\n",
        "prediction_table = display_predictions(sample_data, static_predictions)\n",
        "print(prediction_table)"
      ],
      "metadata": {
        "colab": {
          "base_uri": "https://localhost:8080/"
        },
        "id": "6GGvoKkU45gS",
        "outputId": "234b3a2a-1552-47b8-bf19-437324f7e090"
      },
      "execution_count": null,
      "outputs": [
        {
          "output_type": "stream",
          "name": "stdout",
          "text": [
            "\u001b[1m1/1\u001b[0m \u001b[32m━━━━━━━━━━━━━━━━━━━━\u001b[0m\u001b[37m\u001b[0m \u001b[1m0s\u001b[0m 22ms/step\n",
            "Prediksi Statis:\n",
            "\n",
            "Sampel 1:\n",
            "  Probabilitas Depresi: 0.0000\n",
            "  Prediksi Kelas: Tidak Depresi\n",
            "\n",
            "Sampel 2:\n",
            "  Probabilitas Depresi: 1.0000\n",
            "  Prediksi Kelas: Depresi\n",
            "\n",
            "Sampel 3:\n",
            "  Probabilitas Depresi: 0.0000\n",
            "  Prediksi Kelas: Tidak Depresi\n",
            "\n",
            "Sampel 4:\n",
            "  Probabilitas Depresi: 0.0000\n",
            "  Prediksi Kelas: Tidak Depresi\n",
            "\n",
            "Sampel 5:\n",
            "  Probabilitas Depresi: 1.0000\n",
            "  Prediksi Kelas: Depresi\n",
            "\n",
            "     Sampel  Probabilitas Depresi          Kelas\n",
            "0  Sampel 1          2.497820e-08  Tidak Depresi\n",
            "1  Sampel 2          1.000000e+00        Depresi\n",
            "2  Sampel 3          1.156932e-07  Tidak Depresi\n",
            "3  Sampel 4          9.662229e-08  Tidak Depresi\n",
            "4  Sampel 5          9.999998e-01        Depresi\n"
          ]
        }
      ]
    }
  ]
}